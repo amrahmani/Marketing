{
  "nbformat": 4,
  "nbformat_minor": 0,
  "metadata": {
    "colab": {
      "provenance": [],
      "authorship_tag": "ABX9TyOXP7wC7z+KItwugRspYGgG",
      "include_colab_link": true
    },
    "kernelspec": {
      "name": "python3",
      "display_name": "Python 3"
    },
    "language_info": {
      "name": "python"
    }
  },
  "cells": [
    {
      "cell_type": "markdown",
      "metadata": {
        "id": "view-in-github",
        "colab_type": "text"
      },
      "source": [
        "<a href=\"https://colab.research.google.com/github/amrahmani/Marketing/blob/main/AIMarketing_Ch1.ipynb\" target=\"_parent\"><img src=\"https://colab.research.google.com/assets/colab-badge.svg\" alt=\"Open In Colab\"/></a>"
      ]
    },
    {
      "cell_type": "code",
      "source": [
        "!pip install -q kaggle"
      ],
      "metadata": {
        "id": "t3_m3di_C3oo"
      },
      "execution_count": 13,
      "outputs": []
    },
    {
      "cell_type": "code",
      "source": [
        "!mkdir -p ~/.kaggle\n",
        "!mv kaggle.json ~/.kaggle/\n",
        "!chmod 600 ~/.kaggle/kaggle.json"
      ],
      "metadata": {
        "id": "tkn4HpLiitX6"
      },
      "execution_count": null,
      "outputs": []
    },
    {
      "cell_type": "code",
      "source": [
        "!ls -l ~/.kaggle/kaggle.json"
      ],
      "metadata": {
        "id": "7MB4Gksv0zrp"
      },
      "execution_count": null,
      "outputs": []
    },
    {
      "cell_type": "code",
      "execution_count": null,
      "metadata": {
        "id": "4L1j9MSPYFSM"
      },
      "outputs": [],
      "source": [
        "!kaggle datasets download -d vijayuv/onlineretail -p ./data/"
      ]
    },
    {
      "cell_type": "code",
      "source": [
        "!ls ./data/"
      ],
      "metadata": {
        "id": "nbNwukJ2ZD0T"
      },
      "execution_count": null,
      "outputs": []
    },
    {
      "cell_type": "code",
      "source": [
        "!unzip ./data/onlineretail.zip -d ./data/"
      ],
      "metadata": {
        "id": "kQHDLQrO15TT"
      },
      "execution_count": null,
      "outputs": []
    },
    {
      "cell_type": "code",
      "source": [
        "import pandas as pd\n",
        "# Specify the encoding explicitly, for example 'latin1' or 'ISO-8859-1'\n",
        "df = pd.read_csv('./data/OnlineRetail.csv', encoding='latin1')\n",
        "# Now you can work with the DataFrame 'df'\n",
        "print(df.head())"
      ],
      "metadata": {
        "id": "DlnCj48b2Jur"
      },
      "execution_count": null,
      "outputs": []
    },
    {
      "cell_type": "code",
      "source": [
        "!ls -lh ./data/onlineretail.zip"
      ],
      "metadata": {
        "colab": {
          "base_uri": "https://localhost:8080/"
        },
        "id": "jWloYitFSSwV",
        "outputId": "20ad155c-27ed-458a-954c-cb090594d1e0"
      },
      "execution_count": null,
      "outputs": [
        {
          "output_type": "stream",
          "name": "stdout",
          "text": [
            "-rw-r--r-- 1 root root 7.2M Sep 21  2019 ./data/onlineretail.zip\n"
          ]
        }
      ]
    }
  ]
}
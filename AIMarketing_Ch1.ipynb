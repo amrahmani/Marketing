{
  "nbformat": 4,
  "nbformat_minor": 0,
  "metadata": {
    "colab": {
      "provenance": [],
      "authorship_tag": "ABX9TyM5vCnH/WPkcIb+EZmxwJdL",
      "include_colab_link": true
    },
    "kernelspec": {
      "name": "python3",
      "display_name": "Python 3"
    },
    "language_info": {
      "name": "python"
    }
  },
  "cells": [
    {
      "cell_type": "markdown",
      "metadata": {
        "id": "view-in-github",
        "colab_type": "text"
      },
      "source": [
        "<a href=\"https://colab.research.google.com/github/amrahmani/Marketing/blob/main/AIMarketing_Ch1.ipynb\" target=\"_parent\"><img src=\"https://colab.research.google.com/assets/colab-badge.svg\" alt=\"Open In Colab\"/></a>"
      ]
    },
    {
      "cell_type": "code",
      "source": [
        "!pip install -q kaggle"
      ],
      "metadata": {
        "id": "t3_m3di_C3oo"
      },
      "execution_count": 1,
      "outputs": []
    },
    {
      "cell_type": "code",
      "source": [
        "!mkdir -p ~/kaggle\n",
        "!mv kaggle.json ~/kaggle/\n",
        "!chmod 600 ~/kaggle/kaggle.json"
      ],
      "metadata": {
        "id": "tkn4HpLiitX6",
        "outputId": "1588db13-03c3-4f89-ffea-72c0afc64b04",
        "colab": {
          "base_uri": "https://localhost:8080/"
        }
      },
      "execution_count": 2,
      "outputs": [
        {
          "output_type": "stream",
          "name": "stdout",
          "text": [
            "mv: cannot stat 'kaggle.json': No such file or directory\n",
            "chmod: cannot access '/root/kaggle/kaggle.json': No such file or directory\n"
          ]
        }
      ]
    },
    {
      "cell_type": "code",
      "source": [
        "!ls -al ~/.kaggle/kaggle.json"
      ],
      "metadata": {
        "id": "7MB4Gksv0zrp",
        "outputId": "a4a6474c-98f2-4abc-b636-a22f3d8b8323",
        "colab": {
          "base_uri": "https://localhost:8080/"
        }
      },
      "execution_count": 37,
      "outputs": [
        {
          "output_type": "stream",
          "name": "stdout",
          "text": [
            "-rw------- 1 root root 73 Apr 27 06:55 /root/.kaggle/kaggle.json\n"
          ]
        }
      ]
    },
    {
      "cell_type": "code",
      "execution_count": 28,
      "metadata": {
        "id": "4L1j9MSPYFSM",
        "outputId": "1dbffbed-f364-43e4-b964-43e620117a9d",
        "colab": {
          "base_uri": "https://localhost:8080/"
        }
      },
      "outputs": [
        {
          "output_type": "stream",
          "name": "stdout",
          "text": [
            "Warning: Looks like you're using an outdated API Version, please consider updating (server 1.7.4.2 / client 1.6.17)\n",
            "Dataset URL: https://www.kaggle.com/datasets/vijayuv/onlineretail\n",
            "License(s): CC0-1.0\n",
            "Downloading onlineretail.zip to ./data\n",
            " 69% 5.00M/7.20M [00:00<00:00, 9.65MB/s]\n",
            "100% 7.20M/7.20M [00:00<00:00, 9.37MB/s]\n"
          ]
        }
      ],
      "source": [
        "!kaggle datasets download -d vijayuv/onlineretail -p ./data/"
      ]
    },
    {
      "cell_type": "code",
      "source": [
        "!ls -al ./data/"
      ],
      "metadata": {
        "id": "nbNwukJ2ZD0T",
        "outputId": "a40b4822-5f41-43c5-b220-f486748ce611",
        "colab": {
          "base_uri": "https://localhost:8080/"
        }
      },
      "execution_count": 36,
      "outputs": [
        {
          "output_type": "stream",
          "name": "stdout",
          "text": [
            "total 51896\n",
            "drwxr-xr-x 2 root root     4096 Apr 27 07:06 .\n",
            "drwxr-xr-x 1 root root     4096 Apr 27 07:04 ..\n",
            "-rw-r--r-- 1 root root 45580638 Sep 21  2019 OnlineRetail.csv\n",
            "-rw-r--r-- 1 root root  7548702 Sep 21  2019 onlineretail.zip\n"
          ]
        }
      ]
    },
    {
      "cell_type": "code",
      "source": [
        "!unzip ./data/onlineretail.zip -d ./data/"
      ],
      "metadata": {
        "id": "kQHDLQrO15TT",
        "outputId": "faef546b-e7e1-472e-8114-e6b8de0510f4",
        "colab": {
          "base_uri": "https://localhost:8080/"
        }
      },
      "execution_count": 31,
      "outputs": [
        {
          "output_type": "stream",
          "name": "stdout",
          "text": [
            "Archive:  ./data/onlineretail.zip\n",
            "  inflating: ./data/OnlineRetail.csv  \n"
          ]
        }
      ]
    },
    {
      "cell_type": "code",
      "source": [
        "import pandas as pd\n",
        "# Specify the encoding explicitly, for example 'latin1' or 'ISO-8859-1'\n",
        "df = pd.read_csv('./data/OnlineRetail.csv', encoding='latin1')\n",
        "# Now you can work with the DataFrame 'df'\n",
        "print(df.head())"
      ],
      "metadata": {
        "id": "DlnCj48b2Jur",
        "outputId": "d953f846-b28c-444b-cee1-8eaac030a3e3",
        "colab": {
          "base_uri": "https://localhost:8080/"
        }
      },
      "execution_count": 38,
      "outputs": [
        {
          "output_type": "stream",
          "name": "stdout",
          "text": [
            "  InvoiceNo StockCode                          Description  Quantity  \\\n",
            "0    536365    85123A   WHITE HANGING HEART T-LIGHT HOLDER         6   \n",
            "1    536365     71053                  WHITE METAL LANTERN         6   \n",
            "2    536365    84406B       CREAM CUPID HEARTS COAT HANGER         8   \n",
            "3    536365    84029G  KNITTED UNION FLAG HOT WATER BOTTLE         6   \n",
            "4    536365    84029E       RED WOOLLY HOTTIE WHITE HEART.         6   \n",
            "\n",
            "      InvoiceDate  UnitPrice  CustomerID         Country  \n",
            "0  12/1/2010 8:26       2.55     17850.0  United Kingdom  \n",
            "1  12/1/2010 8:26       3.39     17850.0  United Kingdom  \n",
            "2  12/1/2010 8:26       2.75     17850.0  United Kingdom  \n",
            "3  12/1/2010 8:26       3.39     17850.0  United Kingdom  \n",
            "4  12/1/2010 8:26       3.39     17850.0  United Kingdom  \n"
          ]
        }
      ]
    }
  ]
}
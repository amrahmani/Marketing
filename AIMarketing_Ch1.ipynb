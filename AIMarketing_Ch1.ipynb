{
  "nbformat": 4,
  "nbformat_minor": 0,
  "metadata": {
    "colab": {
      "provenance": [],
      "authorship_tag": "ABX9TyNorjt6DcY7Rj3rN63zM+jY",
      "include_colab_link": true
    },
    "kernelspec": {
      "name": "python3",
      "display_name": "Python 3"
    },
    "language_info": {
      "name": "python"
    }
  },
  "cells": [
    {
      "cell_type": "markdown",
      "metadata": {
        "id": "view-in-github",
        "colab_type": "text"
      },
      "source": [
        "<a href=\"https://colab.research.google.com/github/amrahmani/Marketing/blob/main/AIMarketing_Ch1.ipynb\" target=\"_parent\"><img src=\"https://colab.research.google.com/assets/colab-badge.svg\" alt=\"Open In Colab\"/></a>"
      ]
    },
    {
      "cell_type": "markdown",
      "source": [
        "**Load the Dataset**\n",
        "\n",
        "**Identify Missing Values**\n",
        "\n",
        "**Impute Missing Values**\n",
        "\n",
        "**Remove Rows or Columns with High Missing Percentaget**"
      ],
      "metadata": {
        "id": "vnO3JmolMu1n"
      }
    },
    {
      "cell_type": "code",
      "source": [
        "import pandas as pd\n",
        "import numpy as np\n",
        "import matplotlib.pyplot as plt\n",
        "import seaborn as sns\n",
        "\n",
        "# Load the dataset\n",
        "df = pd.read_csv('./data/OnlineRetail.csv', encoding='ISO-8859-1')\n",
        "\n",
        "print(\"Original DataFrame Shape:\", df.shape)\n",
        "\n",
        "# 1- Identify Missing Values\n",
        "print(\"\\n--- 1. Initial Missing Values ---\\n\")\n",
        "print(df.isnull().sum())\n",
        "initial_missing_count = df.isnull().sum().sum()\n",
        "print(f\"\\nTotal initial missing values: {initial_missing_count}\")\n",
        "\n",
        "# 2- Impute Missing Values with Mean\n",
        "print(\"\\n--- 2. Imputing Missing Values (UnitPrice) ---\\n\")\n",
        "print(\"Rows with missing UnitPrice before imputation:\")\n",
        "print(df[df['UnitPrice'].isnull()])\n",
        "\n",
        "mean_unit_price = df['UnitPrice'].mean()\n",
        "df['UnitPrice'].fillna(mean_unit_price, inplace=True)\n",
        "\n",
        "print(\"\\nRows with missing UnitPrice after imputation:\")\n",
        "print(df[df['UnitPrice'].isnull()])\n",
        "print(\"\\nMissing values after UnitPrice imputation:\")\n",
        "print(df.isnull().sum())\n",
        "\n",
        "# 3- Remove rows or columns with a high percentage of missing values (> 50%)\n",
        "print(\"\\n--- 3. Removing Rows/Columns with High Missing Percentage (> 50%) ---\\n\")\n",
        "\n",
        "# Check column-wise missing percentage\n",
        "column_missing_percentage = (df.isnull().sum() / len(df)) * 100\n",
        "columns_to_drop = column_missing_percentage[column_missing_percentage > 50].index\n",
        "print(\"Columns with > 50% missing values:\", columns_to_drop)\n",
        "\n",
        "if not columns_to_drop.empty:\n",
        "    print(\"\\nDataFrame info before dropping columns:\")\n",
        "    df.info()\n",
        "    df.drop(columns=columns_to_drop, inplace=True)\n",
        "    print(\"\\nDataFrame info after dropping columns:\")\n",
        "    df.info()\n",
        "else:\n",
        "    print(\"\\nNo columns found with more than 50% missing values.\")\n",
        "\n",
        "# Check row-wise missing percentage\n",
        "row_missing_percentage = (df.isnull().sum(axis=1) / df.shape[1]) * 100\n",
        "rows_to_drop = row_missing_percentage[row_missing_percentage > 50].index\n",
        "print(\"\\nNumber of rows with > 50% missing values:\", len(rows_to_drop))\n",
        "\n",
        "if not rows_to_drop.empty:\n",
        "    print(\"\\nFirst 5 rows with > 50% missing values before dropping:\")\n",
        "    print(df.loc[rows_to_drop.head()])\n",
        "    df.drop(index=rows_to_drop, inplace=True)\n",
        "    print(\"\\nDataFrame shape after dropping rows:\", df.shape)\n",
        "    print(\"\\nFirst 5 rows with > 50% missing values after dropping:\")\n",
        "    # Check if any still exist (should be none)\n",
        "    remaining_high_missing_rows = df[(df.isnull().sum(axis=1) / df.shape[1]) * 100 > 50]\n",
        "    if not remaining_high_missing_rows.empty:\n",
        "        print(remaining_high_missing_rows.head())\n",
        "    else:\n",
        "        print(\"No rows with > 50% missing values remain.\")\n",
        "else:\n",
        "    print(\"\\nNo rows found with more than 50% missing values.\")\n",
        "\n",
        "print(\"\\nMissing values after handling high percentage missing rows/columns:\")\n",
        "print(df.isnull().sum())"
      ],
      "metadata": {
        "id": "VlcTDNIQMvbd",
        "outputId": "5652ef9d-c895-4b72-abff-9e9cdbb93fde",
        "colab": {
          "base_uri": "https://localhost:8080/"
        }
      },
      "execution_count": null,
      "outputs": [
        {
          "output_type": "stream",
          "name": "stdout",
          "text": [
            "Original DataFrame Shape: (541909, 8)\n",
            "\n",
            "--- 1. Initial Missing Values ---\n",
            "\n",
            "InvoiceNo           0\n",
            "StockCode           0\n",
            "Description      1454\n",
            "Quantity            0\n",
            "InvoiceDate         0\n",
            "UnitPrice           0\n",
            "CustomerID     135080\n",
            "Country             0\n",
            "dtype: int64\n",
            "\n",
            "Total initial missing values: 136534\n",
            "\n",
            "--- 2. Imputing Missing Values (UnitPrice) ---\n",
            "\n",
            "Rows with missing UnitPrice before imputation:\n",
            "Empty DataFrame\n",
            "Columns: [InvoiceNo, StockCode, Description, Quantity, InvoiceDate, UnitPrice, CustomerID, Country]\n",
            "Index: []\n",
            "\n",
            "Rows with missing UnitPrice after imputation:\n",
            "Empty DataFrame\n",
            "Columns: [InvoiceNo, StockCode, Description, Quantity, InvoiceDate, UnitPrice, CustomerID, Country]\n",
            "Index: []\n",
            "\n",
            "Missing values after UnitPrice imputation:\n",
            "InvoiceNo           0\n",
            "StockCode           0\n",
            "Description      1454\n",
            "Quantity            0\n",
            "InvoiceDate         0\n",
            "UnitPrice           0\n",
            "CustomerID     135080\n",
            "Country             0\n",
            "dtype: int64\n",
            "\n",
            "--- 3. Removing Rows/Columns with High Missing Percentage (> 50%) ---\n",
            "\n"
          ]
        },
        {
          "output_type": "stream",
          "name": "stderr",
          "text": [
            "<ipython-input-46-59cfe6d22f8a>:23: FutureWarning: A value is trying to be set on a copy of a DataFrame or Series through chained assignment using an inplace method.\n",
            "The behavior will change in pandas 3.0. This inplace method will never work because the intermediate object on which we are setting values always behaves as a copy.\n",
            "\n",
            "For example, when doing 'df[col].method(value, inplace=True)', try using 'df.method({col: value}, inplace=True)' or df[col] = df[col].method(value) instead, to perform the operation inplace on the original object.\n",
            "\n",
            "\n",
            "  df['UnitPrice'].fillna(mean_unit_price, inplace=True)\n"
          ]
        },
        {
          "output_type": "stream",
          "name": "stdout",
          "text": [
            "Columns with > 50% missing values: Index([], dtype='object')\n",
            "\n",
            "No columns found with more than 50% missing values.\n",
            "\n",
            "Number of rows with > 50% missing values: 0\n",
            "\n",
            "No rows found with more than 50% missing values.\n",
            "\n",
            "Missing values after handling high percentage missing rows/columns:\n",
            "InvoiceNo           0\n",
            "StockCode           0\n",
            "Description      1454\n",
            "Quantity            0\n",
            "InvoiceDate         0\n",
            "UnitPrice           0\n",
            "CustomerID     135080\n",
            "Country             0\n",
            "dtype: int64\n"
          ]
        }
      ]
    }
  ]
}
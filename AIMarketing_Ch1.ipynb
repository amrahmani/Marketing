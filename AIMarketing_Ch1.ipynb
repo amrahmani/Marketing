{
  "nbformat": 4,
  "nbformat_minor": 0,
  "metadata": {
    "colab": {
      "provenance": [],
      "authorship_tag": "ABX9TyN2RIPx4YH43to1gIIZ7SeR",
      "include_colab_link": true
    },
    "kernelspec": {
      "name": "python3",
      "display_name": "Python 3"
    },
    "language_info": {
      "name": "python"
    }
  },
  "cells": [
    {
      "cell_type": "markdown",
      "metadata": {
        "id": "view-in-github",
        "colab_type": "text"
      },
      "source": [
        "<a href=\"https://colab.research.google.com/github/amrahmani/Marketing/blob/main/AIMarketing_Ch1.ipynb\" target=\"_parent\"><img src=\"https://colab.research.google.com/assets/colab-badge.svg\" alt=\"Open In Colab\"/></a>"
      ]
    },
    {
      "cell_type": "markdown",
      "source": [
        "Load the Dataset from https://github.com/amrahmani/Marketing/blob/main/consumer_sales_data.csv\n",
        "\n",
        "Delete rows with Negative Quantity and UnitPrice\n",
        "\n",
        "Identify Missing Values\n",
        "\n",
        "Impute Missing Values\n",
        "\n",
        "Remove Rows or Columns with High Missing Percentaget\n",
        "\n",
        "consumer_sales_data.csv = \"ProductID, ProductCategory, ProductBrand,\tProductPric,\tCustomerAge, \tCustomerGender,\tPurchaseFrequency,\tCustomerSatisfaction,\tPurchaseIntent\""
      ],
      "metadata": {
        "id": "giVUgElGajvO"
      }
    },
    {
      "cell_type": "code",
      "source": [
        "import pandas as pd\n",
        "import numpy as np\n",
        "\n",
        "# 1. Load the Dataset\n",
        "url = 'https://raw.githubusercontent.com/amrahmani/Marketing/main/consumer_sales_data.csv'\n",
        "df = pd.read_csv(url)\n",
        "\n",
        "# Display the first 5 rows and info about the dataframe\n",
        "print(\"Initial DataFrame:\")\n",
        "print(df.head())\n",
        "print(\"\\nDataFrame Info:\")\n",
        "print(df.info())\n",
        "\n",
        "# 2. Delete rows with Negative Quantity and UnitPrice (Assuming these columns exist or similar)\n",
        "# I'll assume you meant ProductPrice instead of UnitPrice.\n",
        "# Adjust column names if necessary.\n",
        "if 'ProductPrice' in df.columns:\n",
        "    df = df[df['ProductPrice'] >= 0]\n",
        "else:\n",
        "    print(\"\\n'ProductPrice' column not found. Skipping this step.\")\n",
        "\n",
        "# 3. Identify Missing Values\n",
        "print(\"\\nMissing Values (before imputation):\")\n",
        "print(df.isnull().sum())\n",
        "\n",
        "# 4. Impute Missing Values\n",
        "# Strategy:\n",
        "#   - Numerical columns: Impute with the mean\n",
        "#   - Categorical columns: Impute with the mode\n",
        "for col in df.columns:\n",
        "    if df[col].dtype == 'number' or pd.api.types.is_numeric_dtype(df[col]):\n",
        "        df[col] = df[col].fillna(df[col].mean())\n",
        "    else:\n",
        "        df[col] = df[col].fillna(df[col].mode()[0])\n",
        "\n",
        "print(\"\\nMissing Values (after imputation):\")\n",
        "print(df.isnull().sum())\n",
        "\n",
        "# 5. Remove Rows or Columns with High Missing Percentage\n",
        "# Define a threshold for missing percentage (e.g., 50%)\n",
        "threshold = 0.5  # 50%\n",
        "\n",
        "# Remove columns with too many missing values\n",
        "missing_col_percentage = df.isnull().sum() / len(df)\n",
        "cols_to_drop = missing_col_percentage[missing_col_percentage > threshold].index\n",
        "df = df.drop(columns=cols_to_drop)\n",
        "\n",
        "# Remove rows with too many missing values\n",
        "missing_row_percentage = df.isnull().sum(axis=1) / len(df.columns)\n",
        "rows_to_drop = missing_row_percentage[missing_row_percentage > threshold].index\n",
        "df = df.drop(index=rows_to_drop)\n",
        "\n",
        "print(\"\\nDataFrame Info after handling missing values:\")\n",
        "print(df.info())\n",
        "print(\"\\nDataFrame after handling missing values:\")\n",
        "print(df.head())"
      ],
      "metadata": {
        "id": "SHbht1XUs5Pe",
        "outputId": "b355a4b0-6e6a-4ac7-ab0f-12fe025ed615",
        "colab": {
          "base_uri": "https://localhost:8080/"
        }
      },
      "execution_count": null,
      "outputs": [
        {
          "output_type": "stream",
          "name": "stdout",
          "text": [
            "Initial DataFrame:\n",
            "   ProductID ProductCategory  ProductBrand  ProductPrice  CustomerAge  \\\n",
            "0       5874     Smartphones  Other Brands    312.949668           18   \n",
            "1       5875   Smart Watches       Samsung    980.389404           35   \n",
            "2       5876         Tablets       Samsung   2606.718293           63   \n",
            "3       5877     Smartphones       Samsung    870.395450           63   \n",
            "4       5878         Tablets          Sony   1798.955875           57   \n",
            "\n",
            "   CustomerGender  PurchaseFrequency  CustomerSatisfaction  PurchaseIntent  \n",
            "0               0                  2                     1               0  \n",
            "1               1                  7                     2               1  \n",
            "2               0                  1                     5               1  \n",
            "3               1                 10                     3               1  \n",
            "4               0                 17                     3               0  \n",
            "\n",
            "DataFrame Info:\n",
            "<class 'pandas.core.frame.DataFrame'>\n",
            "RangeIndex: 9000 entries, 0 to 8999\n",
            "Data columns (total 9 columns):\n",
            " #   Column                Non-Null Count  Dtype  \n",
            "---  ------                --------------  -----  \n",
            " 0   ProductID             9000 non-null   int64  \n",
            " 1   ProductCategory       9000 non-null   object \n",
            " 2   ProductBrand          9000 non-null   object \n",
            " 3   ProductPrice          9000 non-null   float64\n",
            " 4   CustomerAge           9000 non-null   int64  \n",
            " 5   CustomerGender        9000 non-null   int64  \n",
            " 6   PurchaseFrequency     9000 non-null   int64  \n",
            " 7   CustomerSatisfaction  9000 non-null   int64  \n",
            " 8   PurchaseIntent        9000 non-null   int64  \n",
            "dtypes: float64(1), int64(6), object(2)\n",
            "memory usage: 632.9+ KB\n",
            "None\n",
            "\n",
            "Missing Values (before imputation):\n",
            "ProductID               0\n",
            "ProductCategory         0\n",
            "ProductBrand            0\n",
            "ProductPrice            0\n",
            "CustomerAge             0\n",
            "CustomerGender          0\n",
            "PurchaseFrequency       0\n",
            "CustomerSatisfaction    0\n",
            "PurchaseIntent          0\n",
            "dtype: int64\n",
            "\n",
            "Missing Values (after imputation):\n",
            "ProductID               0\n",
            "ProductCategory         0\n",
            "ProductBrand            0\n",
            "ProductPrice            0\n",
            "CustomerAge             0\n",
            "CustomerGender          0\n",
            "PurchaseFrequency       0\n",
            "CustomerSatisfaction    0\n",
            "PurchaseIntent          0\n",
            "dtype: int64\n",
            "\n",
            "DataFrame Info after handling missing values:\n",
            "<class 'pandas.core.frame.DataFrame'>\n",
            "RangeIndex: 9000 entries, 0 to 8999\n",
            "Data columns (total 9 columns):\n",
            " #   Column                Non-Null Count  Dtype  \n",
            "---  ------                --------------  -----  \n",
            " 0   ProductID             9000 non-null   int64  \n",
            " 1   ProductCategory       9000 non-null   object \n",
            " 2   ProductBrand          9000 non-null   object \n",
            " 3   ProductPrice          9000 non-null   float64\n",
            " 4   CustomerAge           9000 non-null   int64  \n",
            " 5   CustomerGender        9000 non-null   int64  \n",
            " 6   PurchaseFrequency     9000 non-null   int64  \n",
            " 7   CustomerSatisfaction  9000 non-null   int64  \n",
            " 8   PurchaseIntent        9000 non-null   int64  \n",
            "dtypes: float64(1), int64(6), object(2)\n",
            "memory usage: 632.9+ KB\n",
            "None\n",
            "\n",
            "DataFrame after handling missing values:\n",
            "   ProductID ProductCategory  ProductBrand  ProductPrice  CustomerAge  \\\n",
            "0       5874     Smartphones  Other Brands    312.949668           18   \n",
            "1       5875   Smart Watches       Samsung    980.389404           35   \n",
            "2       5876         Tablets       Samsung   2606.718293           63   \n",
            "3       5877     Smartphones       Samsung    870.395450           63   \n",
            "4       5878         Tablets          Sony   1798.955875           57   \n",
            "\n",
            "   CustomerGender  PurchaseFrequency  CustomerSatisfaction  PurchaseIntent  \n",
            "0               0                  2                     1               0  \n",
            "1               1                  7                     2               1  \n",
            "2               0                  1                     5               1  \n",
            "3               1                 10                     3               1  \n",
            "4               0                 17                     3               0  \n"
          ]
        }
      ]
    },
    {
      "cell_type": "markdown",
      "source": [
        "**Prepare the dataset for modeling. Create features and a target variable in Python.**"
      ],
      "metadata": {
        "id": "HMiV8jIVH7su"
      }
    },
    {
      "cell_type": "code",
      "source": [
        "from sklearn.model_selection import train_test_split\n",
        "from sklearn.preprocessing import MinMaxScaler\n",
        "\n",
        "# Feature Selection\n",
        "features = ['ProductPrice', 'CustomerAge', 'CustomerGender', 'PurchaseFrequency', 'CustomerSatisfaction']\n",
        "X = df[features].copy()\n",
        "\n",
        "# Target Variable\n",
        "y = df['PurchaseIntent'].copy()\n",
        "\n",
        "# Handle categorical feature 'CustomerGender' using one-hot encoding\n",
        "X = pd.get_dummies(X, columns=['CustomerGender'], drop_first=True)\n",
        "print(\"\\nFeatures after one-hot encoding:\")\n",
        "print(X.head())\n",
        "\n",
        "# Data Splitting (80/20)\n",
        "X_train, X_test, y_train, y_test = train_test_split(X, y, test_size=0.2, random_state=42)\n",
        "\n",
        "# Scaling using MinMaxScaler\n",
        "scaler = MinMaxScaler()\n",
        "X_train_scaled = scaler.fit_transform(X_train)\n",
        "X_test_scaled = scaler.transform(X_test)"
      ],
      "metadata": {
        "colab": {
          "base_uri": "https://localhost:8080/"
        },
        "id": "KsLqnq8hYvCv",
        "outputId": "9a7afba2-8f76-498e-dd2d-a8be065b2053"
      },
      "execution_count": null,
      "outputs": [
        {
          "output_type": "stream",
          "name": "stdout",
          "text": [
            "\n",
            "Features after one-hot encoding:\n",
            "   ProductPrice  CustomerAge  PurchaseFrequency  CustomerSatisfaction  \\\n",
            "0    312.949668           18                  2                     1   \n",
            "1    980.389404           35                  7                     2   \n",
            "2   2606.718293           63                  1                     5   \n",
            "3    870.395450           63                 10                     3   \n",
            "4   1798.955875           57                 17                     3   \n",
            "\n",
            "   CustomerGender_1  \n",
            "0             False  \n",
            "1              True  \n",
            "2             False  \n",
            "3              True  \n",
            "4             False  \n"
          ]
        }
      ]
    },
    {
      "cell_type": "markdown",
      "source": [
        "**Train a logistic regression model**"
      ],
      "metadata": {
        "id": "GmAyKyaeJN54"
      }
    },
    {
      "cell_type": "code",
      "source": [
        "from sklearn.linear_model import LogisticRegression\n",
        "from sklearn.metrics import accuracy_score, classification_report, confusion_matrix\n",
        "import seaborn as sns\n",
        "import matplotlib.pyplot as plt\n",
        "\n",
        "# Train a Logistic Regression Model\n",
        "# Initialize the Logistic Regression model\n",
        "model = LogisticRegression(random_state=42)\n",
        "\n",
        "# Train the model on the scaled training data\n",
        "model.fit(X_train_scaled, y_train)\n",
        "\n",
        "# Make predictions on the scaled test data\n",
        "y_pred = model.predict(X_test_scaled)\n",
        "\n",
        "# Evaluate the Model\n",
        "accuracy = accuracy_score(y_test, y_pred)\n",
        "print(f\"Accuracy of the Logistic Regression Model: {accuracy:.4f}\")\n",
        "\n",
        "print(\"\\nClassification Report:\")\n",
        "print(classification_report(y_test, y_pred))\n",
        "\n",
        "# Confusion Matrix\n",
        "cm = confusion_matrix(y_test, y_pred)\n",
        "plt.figure(figsize=(6, 4))\n",
        "sns.heatmap(cm, annot=True, fmt='d', cmap='Blues',\n",
        "            xticklabels=model.classes_, yticklabels=model.classes_)\n",
        "plt.xlabel('Predicted')\n",
        "plt.ylabel('Actual')\n",
        "plt.title('Confusion Matrix')\n",
        "plt.show()"
      ],
      "metadata": {
        "colab": {
          "base_uri": "https://localhost:8080/",
          "height": 627
        },
        "id": "WP0HMuk2cTcS",
        "outputId": "62763337-0c47-4354-f4a0-22edd3427f01"
      },
      "execution_count": null,
      "outputs": [
        {
          "output_type": "stream",
          "name": "stdout",
          "text": [
            "Accuracy of the Logistic Regression Model: 0.8528\n",
            "\n",
            "Classification Report:\n",
            "              precision    recall  f1-score   support\n",
            "\n",
            "           0       0.85      0.81      0.83       793\n",
            "           1       0.86      0.88      0.87      1007\n",
            "\n",
            "    accuracy                           0.85      1800\n",
            "   macro avg       0.85      0.85      0.85      1800\n",
            "weighted avg       0.85      0.85      0.85      1800\n",
            "\n"
          ]
        },
        {
          "output_type": "display_data",
          "data": {
            "text/plain": [
              "<Figure size 600x400 with 2 Axes>"
            ],
            "image/png": "[encoded data removed]"
          },
          "metadata": {}
        }
      ]
    }
  ]
}